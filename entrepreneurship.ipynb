{
  "nbformat": 4,
  "nbformat_minor": 0,
  "metadata": {
    "colab": {
      "name": "entrepreneurship.ipynb",
      "provenance": [],
      "collapsed_sections": [],
      "authorship_tag": "ABX9TyMPv6zE6U1kpig694tm59rO",
      "include_colab_link": true
    },
    "kernelspec": {
      "name": "python3",
      "display_name": "Python 3"
    },
    "language_info": {
      "name": "python"
    }
  },
  "cells": [
    {
      "cell_type": "markdown",
      "metadata": {
        "id": "view-in-github",
        "colab_type": "text"
      },
      "source": [
        "<a href=\"https://colab.research.google.com/github/Mayuri-thatikonda/entrepreneurship/blob/main/entrepreneurship.ipynb\" target=\"_parent\"><img src=\"https://colab.research.google.com/assets/colab-badge.svg\" alt=\"Open In Colab\"/></a>"
      ]
    },
    {
      "cell_type": "code",
      "metadata": {
        "id": "mSrDuiFqZLzc"
      },
      "source": [
        "import numpy as np\n",
        "import matplotlib.pyplot as plt\n",
        "import pandas as pd"
      ],
      "execution_count": 1,
      "outputs": []
    },
    {
      "cell_type": "code",
      "metadata": {
        "id": "kuU_S9iwZgA8"
      },
      "source": [
        "dataset = pd.read_csv('data.csv')\n"
      ],
      "execution_count": 2,
      "outputs": []
    },
    {
      "cell_type": "code",
      "metadata": {
        "colab": {
          "base_uri": "https://localhost:8080/",
          "height": 365
        },
        "id": "zKgVnVodZmQv",
        "outputId": "6c3d4b13-bd7c-4853-934c-56d2b028811a"
      },
      "source": [
        "dataset.head()"
      ],
      "execution_count": 3,
      "outputs": [
        {
          "output_type": "execute_result",
          "data": {
            "text/html": [
              "<div>\n",
              "<style scoped>\n",
              "    .dataframe tbody tr th:only-of-type {\n",
              "        vertical-align: middle;\n",
              "    }\n",
              "\n",
              "    .dataframe tbody tr th {\n",
              "        vertical-align: top;\n",
              "    }\n",
              "\n",
              "    .dataframe thead th {\n",
              "        text-align: right;\n",
              "    }\n",
              "</style>\n",
              "<table border=\"1\" class=\"dataframe\">\n",
              "  <thead>\n",
              "    <tr style=\"text-align: right;\">\n",
              "      <th></th>\n",
              "      <th>EducationSector</th>\n",
              "      <th>IndividualProject</th>\n",
              "      <th>Age</th>\n",
              "      <th>Gender</th>\n",
              "      <th>City</th>\n",
              "      <th>Influenced</th>\n",
              "      <th>Perseverance</th>\n",
              "      <th>DesireToTakeInitiative</th>\n",
              "      <th>Competitiveness</th>\n",
              "      <th>SelfReliance</th>\n",
              "      <th>StrongNeedToAchieve</th>\n",
              "      <th>SelfConfidence</th>\n",
              "      <th>GoodPhysicalHealth</th>\n",
              "      <th>MentalDisorder</th>\n",
              "      <th>KeyTraits</th>\n",
              "      <th>ReasonsForLack</th>\n",
              "      <th>y</th>\n",
              "    </tr>\n",
              "  </thead>\n",
              "  <tbody>\n",
              "    <tr>\n",
              "      <th>0</th>\n",
              "      <td>Engineering Sciences</td>\n",
              "      <td>No</td>\n",
              "      <td>19</td>\n",
              "      <td>Male</td>\n",
              "      <td>Yes</td>\n",
              "      <td>No</td>\n",
              "      <td>2</td>\n",
              "      <td>2</td>\n",
              "      <td>3</td>\n",
              "      <td>3</td>\n",
              "      <td>2</td>\n",
              "      <td>2</td>\n",
              "      <td>3</td>\n",
              "      <td>Yes</td>\n",
              "      <td>Passion</td>\n",
              "      <td>NaN</td>\n",
              "      <td>1</td>\n",
              "    </tr>\n",
              "    <tr>\n",
              "      <th>1</th>\n",
              "      <td>Engineering Sciences</td>\n",
              "      <td>Yes</td>\n",
              "      <td>22</td>\n",
              "      <td>Male</td>\n",
              "      <td>No</td>\n",
              "      <td>Yes</td>\n",
              "      <td>3</td>\n",
              "      <td>3</td>\n",
              "      <td>3</td>\n",
              "      <td>4</td>\n",
              "      <td>4</td>\n",
              "      <td>3</td>\n",
              "      <td>4</td>\n",
              "      <td>Yes</td>\n",
              "      <td>Vision</td>\n",
              "      <td>Just not interested! (Want to work in the corp...</td>\n",
              "      <td>0</td>\n",
              "    </tr>\n",
              "    <tr>\n",
              "      <th>2</th>\n",
              "      <td>Engineering Sciences</td>\n",
              "      <td>No</td>\n",
              "      <td>18</td>\n",
              "      <td>Male</td>\n",
              "      <td>Yes</td>\n",
              "      <td>No</td>\n",
              "      <td>3</td>\n",
              "      <td>4</td>\n",
              "      <td>3</td>\n",
              "      <td>3</td>\n",
              "      <td>3</td>\n",
              "      <td>4</td>\n",
              "      <td>4</td>\n",
              "      <td>No</td>\n",
              "      <td>Passion</td>\n",
              "      <td>Not willing to start a venture in India and wa...</td>\n",
              "      <td>0</td>\n",
              "    </tr>\n",
              "    <tr>\n",
              "      <th>3</th>\n",
              "      <td>Engineering Sciences</td>\n",
              "      <td>Yes</td>\n",
              "      <td>20</td>\n",
              "      <td>Male</td>\n",
              "      <td>Yes</td>\n",
              "      <td>Yes</td>\n",
              "      <td>3</td>\n",
              "      <td>3</td>\n",
              "      <td>3</td>\n",
              "      <td>3</td>\n",
              "      <td>4</td>\n",
              "      <td>3</td>\n",
              "      <td>3</td>\n",
              "      <td>No</td>\n",
              "      <td>Resilience</td>\n",
              "      <td>Not able to take a Financial Risk</td>\n",
              "      <td>0</td>\n",
              "    </tr>\n",
              "    <tr>\n",
              "      <th>4</th>\n",
              "      <td>Engineering Sciences</td>\n",
              "      <td>Yes</td>\n",
              "      <td>19</td>\n",
              "      <td>Male</td>\n",
              "      <td>Yes</td>\n",
              "      <td>Yes</td>\n",
              "      <td>2</td>\n",
              "      <td>3</td>\n",
              "      <td>3</td>\n",
              "      <td>3</td>\n",
              "      <td>4</td>\n",
              "      <td>3</td>\n",
              "      <td>2</td>\n",
              "      <td>Yes</td>\n",
              "      <td>Vision</td>\n",
              "      <td>NaN</td>\n",
              "      <td>1</td>\n",
              "    </tr>\n",
              "  </tbody>\n",
              "</table>\n",
              "</div>"
            ],
            "text/plain": [
              "        EducationSector  ...  y\n",
              "0  Engineering Sciences  ...  1\n",
              "1  Engineering Sciences  ...  0\n",
              "2  Engineering Sciences  ...  0\n",
              "3  Engineering Sciences  ...  0\n",
              "4  Engineering Sciences  ...  1\n",
              "\n",
              "[5 rows x 17 columns]"
            ]
          },
          "metadata": {
            "tags": []
          },
          "execution_count": 3
        }
      ]
    },
    {
      "cell_type": "code",
      "metadata": {
        "colab": {
          "base_uri": "https://localhost:8080/"
        },
        "id": "1Ojgxj_ggMOz",
        "outputId": "679fe6fe-52f2-4678-e44e-f3194e7e58c6"
      },
      "source": [
        "dataset.columns"
      ],
      "execution_count": 4,
      "outputs": [
        {
          "output_type": "execute_result",
          "data": {
            "text/plain": [
              "Index(['EducationSector', 'IndividualProject', 'Age', 'Gender', 'City',\n",
              "       'Influenced', 'Perseverance', 'DesireToTakeInitiative',\n",
              "       'Competitiveness', 'SelfReliance', 'StrongNeedToAchieve',\n",
              "       'SelfConfidence', 'GoodPhysicalHealth', 'MentalDisorder', 'KeyTraits',\n",
              "       'ReasonsForLack', 'y'],\n",
              "      dtype='object')"
            ]
          },
          "metadata": {
            "tags": []
          },
          "execution_count": 4
        }
      ]
    },
    {
      "cell_type": "code",
      "metadata": {
        "colab": {
          "base_uri": "https://localhost:8080/"
        },
        "id": "5590hM6Jcbzq",
        "outputId": "da699474-4dbe-4083-dcb1-194453bb3bb3"
      },
      "source": [
        "dataset['y'].nunique()"
      ],
      "execution_count": 5,
      "outputs": [
        {
          "output_type": "execute_result",
          "data": {
            "text/plain": [
              "2"
            ]
          },
          "metadata": {
            "tags": []
          },
          "execution_count": 5
        }
      ]
    },
    {
      "cell_type": "code",
      "metadata": {
        "colab": {
          "base_uri": "https://localhost:8080/"
        },
        "id": "RFHJkz-RZ-aN",
        "outputId": "7587fb95-c935-4639-c803-779165e70f2b"
      },
      "source": [
        "dataset.dtypes"
      ],
      "execution_count": 6,
      "outputs": [
        {
          "output_type": "execute_result",
          "data": {
            "text/plain": [
              "EducationSector           object\n",
              "IndividualProject         object\n",
              "Age                        int64\n",
              "Gender                    object\n",
              "City                      object\n",
              "Influenced                object\n",
              "Perseverance               int64\n",
              "DesireToTakeInitiative     int64\n",
              "Competitiveness            int64\n",
              "SelfReliance               int64\n",
              "StrongNeedToAchieve        int64\n",
              "SelfConfidence             int64\n",
              "GoodPhysicalHealth         int64\n",
              "MentalDisorder            object\n",
              "KeyTraits                 object\n",
              "ReasonsForLack            object\n",
              "y                          int64\n",
              "dtype: object"
            ]
          },
          "metadata": {
            "tags": []
          },
          "execution_count": 6
        }
      ]
    },
    {
      "cell_type": "code",
      "metadata": {
        "colab": {
          "base_uri": "https://localhost:8080/"
        },
        "id": "ZGlNXuY9aF-Y",
        "outputId": "d5a888bb-d4ca-4174-a83c-8c4749048862"
      },
      "source": [
        "dataset.info()"
      ],
      "execution_count": 7,
      "outputs": [
        {
          "output_type": "stream",
          "text": [
            "<class 'pandas.core.frame.DataFrame'>\n",
            "RangeIndex: 219 entries, 0 to 218\n",
            "Data columns (total 17 columns):\n",
            " #   Column                  Non-Null Count  Dtype \n",
            "---  ------                  --------------  ----- \n",
            " 0   EducationSector         219 non-null    object\n",
            " 1   IndividualProject       219 non-null    object\n",
            " 2   Age                     219 non-null    int64 \n",
            " 3   Gender                  219 non-null    object\n",
            " 4   City                    219 non-null    object\n",
            " 5   Influenced              219 non-null    object\n",
            " 6   Perseverance            219 non-null    int64 \n",
            " 7   DesireToTakeInitiative  219 non-null    int64 \n",
            " 8   Competitiveness         219 non-null    int64 \n",
            " 9   SelfReliance            219 non-null    int64 \n",
            " 10  StrongNeedToAchieve     219 non-null    int64 \n",
            " 11  SelfConfidence          219 non-null    int64 \n",
            " 12  GoodPhysicalHealth      219 non-null    int64 \n",
            " 13  MentalDisorder          219 non-null    object\n",
            " 14  KeyTraits               219 non-null    object\n",
            " 15  ReasonsForLack          128 non-null    object\n",
            " 16  y                       219 non-null    int64 \n",
            "dtypes: int64(9), object(8)\n",
            "memory usage: 29.2+ KB\n"
          ],
          "name": "stdout"
        }
      ]
    },
    {
      "cell_type": "code",
      "metadata": {
        "colab": {
          "base_uri": "https://localhost:8080/"
        },
        "id": "MCD86ctVaKm6",
        "outputId": "69bfecfc-7bf0-4fe0-a906-893faed79e5e"
      },
      "source": [
        "dataset.nunique()"
      ],
      "execution_count": 8,
      "outputs": [
        {
          "output_type": "execute_result",
          "data": {
            "text/plain": [
              "EducationSector            9\n",
              "IndividualProject          2\n",
              "Age                       10\n",
              "Gender                     2\n",
              "City                       2\n",
              "Influenced                 2\n",
              "Perseverance               5\n",
              "DesireToTakeInitiative     5\n",
              "Competitiveness            5\n",
              "SelfReliance               5\n",
              "StrongNeedToAchieve        5\n",
              "SelfConfidence             5\n",
              "GoodPhysicalHealth         5\n",
              "MentalDisorder             2\n",
              "KeyTraits                  5\n",
              "ReasonsForLack            44\n",
              "y                          2\n",
              "dtype: int64"
            ]
          },
          "metadata": {
            "tags": []
          },
          "execution_count": 8
        }
      ]
    },
    {
      "cell_type": "code",
      "metadata": {
        "id": "cU08L4XWdQ9w"
      },
      "source": [
        "dataset.drop(['ReasonsForLack','EducationSector'],axis=1,inplace=True)"
      ],
      "execution_count": 9,
      "outputs": []
    },
    {
      "cell_type": "code",
      "metadata": {
        "colab": {
          "base_uri": "https://localhost:8080/"
        },
        "id": "Tf5Mrd2Ke_xL",
        "outputId": "c3614c09-6a49-43fd-b574-08dad0d1ea7e"
      },
      "source": [
        "from sklearn.preprocessing import LabelEncoder\n",
        "le = LabelEncoder()\n",
        "dataset = dataset[['City', 'IndividualProject', 'Gender', 'Influenced',\n",
        "       'MentalDisorder', 'KeyTraits',]].apply(le.fit_transform)\n",
        "print(dataset)"
      ],
      "execution_count": 10,
      "outputs": [
        {
          "output_type": "stream",
          "text": [
            "     City  IndividualProject  Gender  Influenced  MentalDisorder  KeyTraits\n",
            "0       1                  0       1           0               1          0\n",
            "1       0                  1       1           1               1          3\n",
            "2       1                  0       1           0               0          0\n",
            "3       1                  1       1           1               0          2\n",
            "4       1                  1       1           1               1          3\n",
            "..    ...                ...     ...         ...             ...        ...\n",
            "214     1                  1       1           1               1          1\n",
            "215     1                  1       1           0               0          4\n",
            "216     1                  1       0           1               0          3\n",
            "217     1                  0       1           0               0          0\n",
            "218     0                  1       1           1               0          0\n",
            "\n",
            "[219 rows x 6 columns]\n"
          ],
          "name": "stdout"
        }
      ]
    },
    {
      "cell_type": "code",
      "metadata": {
        "id": "0WjtA6fthk9I"
      },
      "source": [
        "X = dataset.iloc[:, :-1].values\n",
        "y = dataset.iloc[:, -1].values"
      ],
      "execution_count": 11,
      "outputs": []
    },
    {
      "cell_type": "code",
      "metadata": {
        "colab": {
          "base_uri": "https://localhost:8080/"
        },
        "id": "a4l6Bt7AiLXt",
        "outputId": "de4a5d44-8e84-417f-ae7f-ad0210d07cb8"
      },
      "source": [
        "print(y)"
      ],
      "execution_count": 12,
      "outputs": [
        {
          "output_type": "stream",
          "text": [
            "[0 3 0 2 3 1 4 4 0 4 2 0 4 3 0 1 3 1 0 0 3 1 3 3 4 3 0 4 4 0 4 4 3 2 1 0 4\n",
            " 0 1 1 1 1 3 1 0 1 4 1 1 0 3 1 4 4 0 1 1 4 0 4 1 1 1 0 1 0 4 1 4 2 2 1 3 2\n",
            " 1 0 3 3 2 1 1 3 2 1 3 1 0 1 3 0 1 3 1 1 1 0 0 0 0 3 0 3 0 3 4 0 4 0 4 0 3\n",
            " 1 1 1 1 4 1 1 4 1 1 3 0 1 3 4 1 1 1 1 1 0 0 0 4 0 1 3 0 2 4 0 1 3 1 0 0 0\n",
            " 1 1 1 0 1 1 4 1 1 1 3 2 0 0 3 0 0 3 3 1 1 4 0 0 0 0 4 0 4 0 1 4 0 0 4 4 0\n",
            " 3 1 0 4 0 0 1 0 1 4 1 4 1 0 1 4 1 3 1 0 1 1 1 3 1 0 3 4 4 1 4 3 0 0]\n"
          ],
          "name": "stdout"
        }
      ]
    },
    {
      "cell_type": "code",
      "metadata": {
        "id": "opu45kgAhpyG"
      },
      "source": [
        "from sklearn.model_selection import train_test_split\n",
        "X_train, X_test, y_train, y_test = train_test_split(X, y, test_size = 0.2, random_state = 0)"
      ],
      "execution_count": 13,
      "outputs": []
    },
    {
      "cell_type": "code",
      "metadata": {
        "id": "ihATONFOpbAu"
      },
      "source": [
        "from sklearn.preprocessing import StandardScaler\n",
        "sc = StandardScaler()\n",
        "X_train = sc.fit_transform(X_train)\n",
        "X_test = sc.transform(X_test)"
      ],
      "execution_count": 14,
      "outputs": []
    },
    {
      "cell_type": "code",
      "metadata": {
        "colab": {
          "base_uri": "https://localhost:8080/"
        },
        "id": "gNHJ2Ig9pgOl",
        "outputId": "bcc9a8ac-c179-44bc-80bf-bfb0e92cc1e6"
      },
      "source": [
        "from sklearn.svm import SVC\n",
        "classifier = SVC(kernel = 'rbf', random_state = 0)\n",
        "classifier.fit(X_train, y_train)"
      ],
      "execution_count": 15,
      "outputs": [
        {
          "output_type": "execute_result",
          "data": {
            "text/plain": [
              "SVC(C=1.0, break_ties=False, cache_size=200, class_weight=None, coef0=0.0,\n",
              "    decision_function_shape='ovr', degree=3, gamma='scale', kernel='rbf',\n",
              "    max_iter=-1, probability=False, random_state=0, shrinking=True, tol=0.001,\n",
              "    verbose=False)"
            ]
          },
          "metadata": {
            "tags": []
          },
          "execution_count": 15
        }
      ]
    },
    {
      "cell_type": "code",
      "metadata": {
        "colab": {
          "base_uri": "https://localhost:8080/"
        },
        "id": "bHncWy9ppnJx",
        "outputId": "c1bc4553-811d-4854-d2a6-2f3d6c1ed4b0"
      },
      "source": [
        "y_pred = classifier.predict(X_test)\n",
        "print(np.concatenate((y_pred.reshape(len(y_pred),1), y_test.reshape(len(y_test),1)),1))"
      ],
      "execution_count": 16,
      "outputs": [
        {
          "output_type": "stream",
          "text": [
            "[[0 1]\n",
            " [0 1]\n",
            " [1 1]\n",
            " [0 0]\n",
            " [3 3]\n",
            " [1 3]\n",
            " [1 0]\n",
            " [0 1]\n",
            " [0 0]\n",
            " [1 0]\n",
            " [0 1]\n",
            " [1 1]\n",
            " [4 1]\n",
            " [0 1]\n",
            " [1 3]\n",
            " [4 1]\n",
            " [0 1]\n",
            " [0 0]\n",
            " [1 4]\n",
            " [0 0]\n",
            " [0 1]\n",
            " [4 4]\n",
            " [1 1]\n",
            " [0 1]\n",
            " [0 0]\n",
            " [0 1]\n",
            " [0 3]\n",
            " [1 1]\n",
            " [1 0]\n",
            " [1 0]\n",
            " [1 4]\n",
            " [1 1]\n",
            " [0 2]\n",
            " [0 4]\n",
            " [4 3]\n",
            " [0 2]\n",
            " [1 1]\n",
            " [4 1]\n",
            " [1 1]\n",
            " [0 1]\n",
            " [1 4]\n",
            " [0 2]\n",
            " [1 0]\n",
            " [1 3]]\n"
          ],
          "name": "stdout"
        }
      ]
    },
    {
      "cell_type": "code",
      "metadata": {
        "colab": {
          "base_uri": "https://localhost:8080/"
        },
        "id": "FyQQzSNkpyYF",
        "outputId": "81a86538-5435-432c-cfa8-07d840b25435"
      },
      "source": [
        "from sklearn.metrics import confusion_matrix, accuracy_score\n",
        "cm = confusion_matrix(y_test, y_pred)\n",
        "print(cm)\n",
        "accuracy_score(y_test, y_pred)"
      ],
      "execution_count": 17,
      "outputs": [
        {
          "output_type": "stream",
          "text": [
            "[[ 5  5  0  0  0]\n",
            " [10  7  0  0  3]\n",
            " [ 3  0  0  0  0]\n",
            " [ 1  3  0  1  1]\n",
            " [ 1  3  0  0  1]]\n"
          ],
          "name": "stdout"
        },
        {
          "output_type": "execute_result",
          "data": {
            "text/plain": [
              "0.3181818181818182"
            ]
          },
          "metadata": {
            "tags": []
          },
          "execution_count": 17
        }
      ]
    }
  ]
}